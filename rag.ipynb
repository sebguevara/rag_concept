{
 "cells": [
  {
   "cell_type": "code",
   "execution_count": 1,
   "metadata": {},
   "outputs": [
    {
     "name": "stderr",
     "output_type": "stream",
     "text": [
      "USER_AGENT environment variable not set, consider setting it to identify your requests.\n"
     ]
    }
   ],
   "source": [
    "import getpass\n",
    "import os\n",
    "from langchain_openai import OpenAIEmbeddings\n",
    "from langchain.chat_models import init_chat_model\n",
    "from langchain_chroma import Chroma\n",
    "import bs4\n",
    "from langchain import hub\n",
    "from langchain_community.document_loaders import WebBaseLoader\n",
    "from langchain_core.documents import Document\n",
    "from langchain_text_splitters import RecursiveCharacterTextSplitter\n",
    "from langgraph.graph import START, StateGraph\n",
    "from typing_extensions import List, TypedDict\n",
    "import requests\n",
    "from bs4 import BeautifulSoup\n",
    "from urllib.parse import urljoin, urlparse, urlsplit, urlunsplit"
   ]
  },
  {
   "cell_type": "code",
   "execution_count": 2,
   "metadata": {},
   "outputs": [],
   "source": [
    "if not os.environ.get(\"OPENAI_API_KEY\"):\n",
    "  os.environ[\"OPENAI_API_KEY\"] = getpass.getpass(\"Enter API key for OpenAI: \")\n",
    "\n",
    "llm = init_chat_model(\"gpt-4o-mini\", model_provider=\"openai\")\n",
    "embeddings = OpenAIEmbeddings(model=\"text-embedding-3-large\")\n",
    "\n",
    "vector_store = Chroma(\n",
    "    collection_name=\"example_collection\",\n",
    "    embedding_function=embeddings,\n",
    "    persist_directory=\"./chroma_langchain_db\",  \n",
    ")"
   ]
  },
  {
   "cell_type": "code",
   "execution_count": 22,
   "metadata": {},
   "outputs": [],
   "source": [
    "def normalize_url(url):\n",
    "    parts = urlsplit(url)\n",
    "    path = parts.path.rstrip(\"/\") or \"/\"\n",
    "    return urlunsplit((parts.scheme, parts.netloc, path, \"\", \"\"))\n",
    "\n",
    "def is_page_url(url):\n",
    "    forbidden_schemes = ['mailto', 'tel', 'ftp', 'file', 'webcal', 'ws', 'wss']\n",
    "    file_exts = [\n",
    "        \".pdf\", \".jpg\", \".jpeg\", \".png\", \".gif\", \".bmp\", \".svg\", \".doc\", \".docx\",\n",
    "        \".xls\", \".xlsx\", \".ppt\", \".pptx\", \".zip\", \".rar\", \".mp3\", \".mp4\", \".avi\", \".mov\",\n",
    "        \".txt\", \".csv\", \".xml\", \".json\", \".xlsx\", \".tar\", \".gz\", \".7z\", \".ico\"\n",
    "    ]\n",
    "    parsed = urlparse(url)\n",
    "    if parsed.scheme not in ('http', 'https'):\n",
    "        return False\n",
    "    if parsed.scheme in forbidden_schemes:\n",
    "        return False\n",
    "    path = parsed.path.split(\"?\")[0]\n",
    "    _, ext = os.path.splitext(path)\n",
    "    if ext.lower() in file_exts:\n",
    "        return False\n",
    "    return True\n",
    "\n",
    "def get_internal_links(base_url):\n",
    "    try:\n",
    "        r = requests.get(base_url, timeout=10)\n",
    "        soup = BeautifulSoup(r.text, \"html.parser\")\n",
    "    except Exception as e:\n",
    "        return []\n",
    "    base_domain = urlparse(base_url).netloc.replace(\"www.\", \"\")\n",
    "    urls = set()\n",
    "    for a in soup.find_all(\"a\", href=True):\n",
    "        href = a[\"href\"]\n",
    "        if not href or href.startswith((\"#\", \"mailto:\", \"tel:\")):\n",
    "            continue\n",
    "        url = urljoin(base_url, href)\n",
    "        link_domain = urlparse(url).netloc.replace(\"www.\", \"\")\n",
    "        if link_domain != base_domain:\n",
    "            continue\n",
    "        norm_url = normalize_url(url)\n",
    "        if is_page_url(norm_url):\n",
    "            urls.add(norm_url)\n",
    "    return list(urls)\n",
    "\n",
    "\n",
    "def crawl_site(start_url, max_depth=2):\n",
    "    visited = set()\n",
    "    to_visit = [(start_url, 0)]\n",
    "    all_internal = set()\n",
    "\n",
    "    while to_visit:\n",
    "        url, depth = to_visit.pop()\n",
    "        if url in visited or depth > max_depth:\n",
    "            continue\n",
    "        visited.add(url)\n",
    "        links = get_internal_links(url)\n",
    "        all_internal.update(links)\n",
    "        if depth < max_depth:\n",
    "            for link in links:\n",
    "                if link not in visited:\n",
    "                    to_visit.append((link, depth + 1))\n",
    "    return list(all_internal)\n"
   ]
  },
  {
   "cell_type": "code",
   "execution_count": 23,
   "metadata": {},
   "outputs": [],
   "source": [
    "urls = crawl_site(\"https://www.unne.edu.ar/\")"
   ]
  },
  {
   "cell_type": "code",
   "execution_count": 24,
   "metadata": {},
   "outputs": [
    {
     "name": "stdout",
     "output_type": "stream",
     "text": [
      "['https://www.unne.edu.ar/agenda/eventos/sesion-de-consejo-superior-2025-05-07', 'https://www.unne.edu.ar/agenda/eventos/introduccion-a-las-microcredenciales-academicas-y-su-relacion-con-la-ead', 'https://www.unne.edu.ar/agenda/eventos/capacitacion-inteligencia-artificial-para-emprendedores', 'https://www.unne.edu.ar/estudiar/posgrado/doctorados', 'https://www.unne.edu.ar/agenda/eventos/my-bookings', 'https://www.unne.edu.ar/estudiar/inscripciones', 'https://www.unne.edu.ar/obras/ampliacion-de-plazos-refaccion-del-sector-de-higiene-y-seguridad-de-comunicacion-institucional-y-dpto-de-higiene-y-seguridad', 'https://www.unne.edu.ar/concursos/facultad-de-ciencias-economicas-mejoramiento-de-las-dedicaciones-docente-res-no-1117-24-d', 'https://www.unne.edu.ar/nosotros/comunicacion-e-imagen-institucional', 'https://www.unne.edu.ar/agenda/eventos/lanzamiento-concurso-emprendimiento-argentino-2025', 'https://www.unne.edu.ar/agenda/eventos/viii-jornadas-de-auditores-de-universidades-nacionales/ical', 'https://www.unne.edu.ar/concursos/facultad-de-ciencias-exactas-y-naturales-y-agrimensura-concurso-docente-res-2024-424-2024-450-2024-509-2024-560-2024-576-y-2024-622-del-c-s', 'https://www.unne.edu.ar/nosotros/comunicacion-e-imagen-institucional/manual-de-redes-sociales', 'https://www.unne.edu.ar/agenda/eventos/paso-a-la-inmortalidad-del-general-martin-guemes', 'https://www.unne.edu.ar/agenda/eventos/punto-unne-programa-de-tv-2-2025-05-02/ical', 'https://www.unne.edu.ar/agenda/eventos/categorias/asuntos-sociales', 'https://www.unne.edu.ar/agenda/eventos/2025-05-13', 'https://www.unne.edu.ar/agenda/eventos/diplomatura-universitaria-en-ia-aplicada-a-la-educacion', 'https://www.unne.edu.ar/agenda/eventos/dia-de-la-revolucion-de-mayo-2025-05-25', 'https://www.unne.edu.ar/nosotros/comunicacion-e-imagen-institucional/manual-de-logo', 'https://www.unne.edu.ar/concursos/facultad-de-ciencias-odontologia-concurso-docente-res-no-201-25-d', 'https://www.unne.edu.ar/concursos/facultad-de-ciencias-agrarias-concurso-docente-res-no-435-24-d', 'https://www.unne.edu.ar/sci-di-unne-nueva-convocatoria-a-categorizacion-interna-de-d-i-de-la-unne', 'https://www.unne.edu.ar/concursos/facultad-de-ciencias-odontologia-concurso-docente-res-no-194-25-d', 'https://www.unne.edu.ar/lop/contratacion-directa-obra-menor-no-01-2024', 'https://www.unne.edu.ar/lop/contratacion-directa-obra-menor-04-24-rectorado-unne', 'https://www.unne.edu.ar/agenda/eventos/el-sistema-argentino-de-creditos-universitarios-una-oportunidad-para-la-transformacion-curricular', 'https://www.unne.edu.ar/concursos/facultad-de-ciencias-veterinarias-concurso-docente-res-no-283-25-d-y-163-25-cd', 'https://www.unne.edu.ar/concursos/facultad-de-ciencias-agrarias-concurso-docente-res-no-269-23-d', 'https://www.unne.edu.ar/concursos/instituto-rectorado-res-no-637-24-r', 'https://www.unne.edu.ar/agenda/eventos/curso-h5p-en-moodle', 'https://www.unne.edu.ar/concursos/facultad-de-ciencias-odontologia-concurso-docente-res-no-198-25-d', 'https://www.unne.edu.ar/concursos/secretaria-general-academica-instituto-rectorado-llamado-a-concurso-no-docente-res-no7523-24-r', 'https://www.unne.edu.ar/agenda/eventos/nanos-encuentros-taller-herramientas-de-visualizacion-de-datos-y-creacion-de-infografias', 'https://www.unne.edu.ar/agenda/eventos/2025-05-09', 'https://www.unne.edu.ar/agenda/eventos/primer-encuentro-emprende-u-2025', 'https://www.unne.edu.ar/agenda/eventos/punto-unne-programa-de-tv-2024-04-26', 'https://www.unne.edu.ar/agenda/eventos/lanzamiento-de-la-convocatoria-del-programa-enfoque', 'https://www.unne.edu.ar/nosotros/normativas', 'https://www.unne.edu.ar/agenda/eventos/ciclo-de-conferencias-1ra-conferencia-bosque-pastoril-disertante-ing-agr-abel-menapace', 'https://www.unne.edu.ar/agenda/eventos/categorias/gestion-unne/page/2', 'https://www.unne.edu.ar/bienestar/socios-estrategicos', 'https://www.unne.edu.ar/agenda/eventos/2025-05-23', 'https://www.unne.edu.ar/diplomas', 'https://www.unne.edu.ar/nosotros/trabajar-en-la-unne/subsidios-para-posgrados', 'https://www.unne.edu.ar/nosotros/dgpiu/departamento-de-control-de-presupuesto', 'https://www.unne.edu.ar/comunidad/articulacion-con-otros-niveles-educativos', 'https://www.unne.edu.ar/agenda/eventos/feria-arteco', 'https://www.unne.edu.ar/estudiar/diplomas/convalidaciones', 'https://www.unne.edu.ar/agenda/eventos/vuelve-el-ciclo-%f0%9d%91%a8-%f0%9d%92%91%f0%9d%92%96%f0%9d%92%93%f0%9d%92%82-%f0%9d%92%8d%f0%9d%92%8a%f0%9d%92%95%f0%9d%92%86%f0%9d%92%93%f0%9d%92%82%f0%9d%92%95%f0%9d%92%96%f0%9d%92%93-2', 'https://www.unne.edu.ar/comunidad/sgeu', 'https://www.unne.edu.ar/estudiar/diplomas/circuito-de-expedicion-de-diplomas', 'https://www.unne.edu.ar/comunidad/emprendedorismo', 'https://www.unne.edu.ar/convocatorias-de-la-fundacion-florencio-fiorini-para-financiar-investigaciones-en-medicina-y-ciencias-biomedicas', 'https://www.unne.edu.ar/agenda/eventos/punto-unne-programa-de-tv-2024-05-03', 'https://www.unne.edu.ar/comunidad/vinculacionytransferencia', 'https://www.unne.edu.ar/resoluciones-de-acreditacion-de-anos-anteriores-2', 'https://www.unne.edu.ar/agenda/eventos/punto-unne-programa-de-tv-2-2025-05-02', 'https://www.unne.edu.ar/concursos/facultad-de-ciencias-exactas-y-naturales-y-agrimensura-concurso-docente-res-no148-25-d', 'https://www.unne.edu.ar/agenda/eventos/diplomatura-universitaria-en-ia-aplicada-a-la-educacion/ical', 'https://www.unne.edu.ar/convocatorias-abiertas-para-becas-a-estudiantes-y-docentes-del-mes-de-mayo-2025', 'https://www.unne.edu.ar/convocatoria-de-la-agencia-idi-para-financiar-proyectos-de-investigacion-para-unidades-de-conocimiento-traslacional-hospitalarias', 'https://www.unne.edu.ar/agenda/eventos/espacio-plasma-andi-villareal', 'https://www.unne.edu.ar/curso-plataformas-digitales-de-acceso-abierto-de-la-unne-como-herramientas-para-el-desarrollo-de-buenas-practicas-de-los-noveles-investigadores-en-la-generacion-preservacion-y-difusion-del-conocimi', 'https://www.unne.edu.ar/concursos/facultad-de-ciencias-veterinarias-concurso-docente-res-no-200-25-d', 'https://www.unne.edu.ar/rectorado', 'https://www.unne.edu.ar/concursos/secretaria-general-de-administrativa-instituto-rectorado-llamado-a-concurso-no-docente-res-no7571-24-r', 'https://www.unne.edu.ar/nosotros/tics/sudocu', 'https://www.unne.edu.ar/agenda/eventos/apertura-de-la-3o-cohorte-de-la-diplomatura-en-alfabetizacion-inicial', 'https://www.unne.edu.ar/investigar/proyectos-de-investigacion', 'https://www.unne.edu.ar/concursos/facultad-de-ciencias-agrarias-concurso-docente-res-no-193-25-d', 'https://www.unne.edu.ar/concursos/instituto-de-ciencias-criminalisticas-y-criminologia-llamado-a-concurso-no-docente-res-no7522-24-r', 'https://www.unne.edu.ar/agenda/eventos/youth-for-democracy-corrientes', 'https://www.unne.edu.ar/agenda/eventos/locations/campus-de-la-reforma', 'https://www.unne.edu.ar/agenda/eventos/la-semana-del-sol-2/ical', 'https://www.unne.edu.ar/agenda/eventos/sesion-de-consejo-superior-2024-06-05', 'https://www.unne.edu.ar/comunidad/graduados', 'https://www.unne.edu.ar/concursos/secretaria-general-academica-instituto-rectorado-llamado-a-concurso-no-docente-res-no8416-24-r', 'https://www.unne.edu.ar/narrar-para-educar-el-enfoque-narrativo-para-el-abordaje-de-las-practicas-docentes-en-la-universidad', 'https://www.unne.edu.ar/agenda/eventos/dia-del-trabajador-2025-05-01', 'https://www.unne.edu.ar/conferencia-la-importancia-de-los-repositorios-digitales-para-las-instituciones', 'https://www.unne.edu.ar/agenda/eventos/sesion-de-consejo-superior-2025-05-07/ical', 'https://www.unne.edu.ar/concursos/instituto-de-ciencias-criminalisticas-y-criminologia-llamado-a-concurso-no-docente-res-no8115-24-r', 'https://www.unne.edu.ar/pict-2023-el-cierre-para-edicion-de-proyecto-se-prorrogo-al-31-de-julio-de-2024', 'https://www.unne.edu.ar/lop/licitacion-privada-regimen-de-obra-publica-no-01-2025', 'https://www.unne.edu.ar/comunidad/internacionalizacion/2', 'https://www.unne.edu.ar/concursos/providencias-resolutivas-nros-06-y-07-2022', 'https://www.unne.edu.ar/diplomatura-superior-en-investigacion-educativa-para-la-practica-docente-universitaria', 'https://www.unne.edu.ar/sistema-de-evaluacion-permanente', 'https://www.unne.edu.ar/agenda/eventos/1-encuentro-de-conocimientos-del-ibera', 'https://www.unne.edu.ar/facultades', 'https://www.unne.edu.ar/nosotros/autoridades/consejo-superior', 'https://www.unne.edu.ar/agenda/eventos/kermes-rosa-de-la-salud-2', 'https://www.unne.edu.ar/estudiar-en-el-exterior', 'https://www.unne.edu.ar/lop/contratacion-directa-obra-menor-no-02-2024', 'https://www.unne.edu.ar/estudiar/posgrado/normativas-de-posgrado', 'https://www.unne.edu.ar/agenda/eventos/charla-sobre-compostaje/ical', 'https://www.unne.edu.ar/agenda/eventos/sesion-de-consejo-superior-2025-05-21', 'https://www.unne.edu.ar/agenda/eventos/ciclo-de-talleres-presenciales-gestiona-tu-emprendimiento-talle-4-comunicacion-creativa', 'https://www.unne.edu.ar/concursos/facultad-de-ciencias-agrarias-concurso-docente-res-no-191-25-d', 'https://www.unne.edu.ar/agenda/eventos/finales-interfacultades', 'https://www.unne.edu.ar/nosotros/trabajar-en-la-unne/formacion-no-docente-continua', 'https://www.unne.edu.ar/concursos/facultad-de-medicina-concurso-no-docente-res-no-034-23-d', 'https://www.unne.edu.ar/agenda/eventos/ciclo-de-jornadas-universidad-empresa-estado-gestion-del-ecosistema-de-desarrollo-local-e-innovacion-tecnologica', 'https://www.unne.edu.ar/concursos/facultad-de-ciencias-veterinarias-concurso-docente-res-no-319-25-d-y-237-25-cd', 'https://www.unne.edu.ar/agenda/eventos/nueva-exposicion-en-la-sala-del-sol-del-ccu-n%f0%9d%90%9ee-%f0%9d%90%ab%f0%9d%90%9a%f0%9d%90%a2%f0%9d%90%ad%f0%9d%90%b2', 'https://www.unne.edu.ar/curso-de-capacitacion-el-portafolio-como-instrumento-de-evaluacion-formativa', 'https://www.unne.edu.ar/agenda/eventos/capacitaciones-para-observadores-estudiantiles-en-concursos-docentes/ical', 'https://www.unne.edu.ar/nosotros/trabajar-en-la-unne/concursos-unne/concursos-docentes', 'https://www.unne.edu.ar/agenda/eventos/tags', 'https://www.unne.edu.ar/mapa-de-sitio', 'https://www.unne.edu.ar/estudiar/idiomas', 'https://www.unne.edu.ar/agenda/eventos/punto-unne-programa-de-tv-2-2025-05-23/ical', 'https://www.unne.edu.ar/concursos/facultad-de-humanidades-concurso-res-no-423-23-y-947-23', 'https://www.unne.edu.ar/solicitud-de-actualizacion-de-integrantes-de-proyectos', 'https://www.unne.edu.ar/agenda/eventos/2025-04-30', 'https://www.unne.edu.ar/agenda/eventos/exposicion-en-la-sala-del-sol-de-gustavo-mendoza', 'https://www.unne.edu.ar/taller-planificacion-de-las-tareas-docentes', 'https://www.unne.edu.ar/somos-unne/ods', 'https://www.unne.edu.ar/cuarto-boletin-informativo-del-programa-de-formacion-docente-continua', 'https://www.unne.edu.ar/estudiar/diplomas/certificacion-de-copia-de-diplomas', 'https://www.unne.edu.ar/concursos/facultad-de-artes-diseno-y-ciencias-de-la-cultura-llamado-a-concurso-no-docente-res-no819-24-d', 'https://www.unne.edu.ar/estudiar/inscripciones/certificacion-de-titulos-secundarios', 'https://www.unne.edu.ar/agenda/eventos/ano-nuevo-2024-01-01', 'https://www.unne.edu.ar/agenda/eventos/primeras-jornadas-agronomicas-internacionales-2024', 'https://www.unne.edu.ar/agenda/eventos/feriado-con-fines-turisticos', 'https://www.unne.edu.ar/nosotros/tics', 'https://www.unne.edu.ar/normativas-de-posgrado', 'https://www.unne.edu.ar/diplomatura-superior-formacion-de-jurados-y-comisiones-evaluadoras-para-el-ingreso-promocion-y-evaluacion-periodica-docente-de-la-unne', 'https://www.unne.edu.ar/agenda/eventos/dia-de-la-revolucion-de-mayo-2024-05-25', 'https://www.unne.edu.ar/nosotros/autoridades', 'https://www.unne.edu.ar/estudiar/posgrado', 'https://www.unne.edu.ar/normativas', 'https://www.unne.edu.ar/convocatoria-de-informes-de-programas-pi-y-pdts', 'https://www.unne.edu.ar/concursos/facultad-de-ciencias-odontologia-concurso-docente-res-no-199-25-d', 'https://www.unne.edu.ar/agenda/eventos/apertura-de-la-3o-cohorte-de-la-diplomatura-en-alfabetizacion-inicial/ical', 'https://www.unne.edu.ar/agenda/eventos/reunion-de-la-ccev-y-unne-virtual', 'https://www.unne.edu.ar/segundo-boletin-informativo-del-programa-de-formacion-docente-continua', 'https://www.unne.edu.ar/financiamiento-de-la-agencia-idi-para-el-desarrollo-de-proyectos-de-investigacion-cientifica-y-tecnologica-pict-startup', 'https://www.unne.edu.ar/concursos/secretaria-general-de-extension-universitaria-instituto-rectorado-llamado-a-concurso-no-docente-res-no7512-24-r', 'https://www.unne.edu.ar/ambientalizacion-curricular-en-carreras-de-la-unne', 'https://www.unne.edu.ar/concursos/facultad-de-ciencias-economicas-llamado-a-concurso-docente-res-no-467-25-cd-y-213-25-cs', 'https://www.unne.edu.ar/evaluacion-curricular', 'https://www.unne.edu.ar/agenda/eventos/punto-unne-programa-de-tv-2024-04-05', 'https://www.unne.edu.ar/concursos/facultad-de-ciencias-agrarias-concurso-docente-res-no-640-24-cs', 'https://www.unne.edu.ar/agenda/eventos/capacitaciones-para-observadores-estudiantiles-en-concursos-docentes', 'https://www.unne.edu.ar/agenda/eventos/punto-unne-programa-de-tv-2-2025-05-09', 'https://www.unne.edu.ar/lop/contratacion-directa-obra-menor-no-03-2023', 'https://www.unne.edu.ar/agenda', 'https://www.unne.edu.ar/concursos/secretaria-general-legal-y-tecnica-instituto-rectorado-llamado-a-concurso-no-docente-res-no7514-24-r', 'https://www.unne.edu.ar/estudiar/diplomas/duplicado-de-diplomas', 'https://www.unne.edu.ar/concursos/facultad-de-ciencias-economicas-llamado-a-concurso-docente-res-no-706-24-cd', 'https://www.unne.edu.ar/agenda/eventos/posta-de-vacunacion-contra-el-dengue', 'https://www.unne.edu.ar/tics', 'https://www.unne.edu.ar/agenda/eventos/dia-de-la-independencia-2024-07-09', 'https://www.unne.edu.ar/agenda/eventos/categorias/cegae', 'https://www.unne.edu.ar/obras/obra-por-administracion-refaccion-de-techo-de-galeria-com-tu-lab-campus-sgto-cabral-ctes-lado-sur', 'https://www.unne.edu.ar/investigar/convocatorias-de-financiamiento-externo', 'https://www.unne.edu.ar/becas-postdoctorales-en-laboratorios-de-estados-unidos-para-realizar-investigaciones-en-ciencias-biomedicas', 'https://www.unne.edu.ar/programa-de-acompanamiento-academico-a-la-terminalidad-de-carreras-de-doctorado', 'https://www.unne.edu.ar/agenda/eventos/2025-05-02', 'https://www.unne.edu.ar/obras/obra-por-administracion-exp-2024-19430-unne-refaccion-de-sala-de-maquinas-y-terraza-instituto-rectorado', 'https://www.unne.edu.ar/concursos/secretaria-general-de-asuntos-sociales-instituto-rectorado-llamado-a-concurso-no-docente-res-no3041-23-r', 'https://www.unne.edu.ar/unne-en-cifras', 'https://www.unne.edu.ar/concursos/facultad-de-ciencias-agrarias-concurso-docente-res-no-273-25-d', 'https://www.unne.edu.ar/concursos/facultad-de-ciencias-economicas-llamado-a-concurso-docente-res-no-890-24-cs-y-931-24-d', 'https://www.unne.edu.ar/agenda/eventos/reunion-coaa-unne', 'https://www.unne.edu.ar/lop/contratacion-directa-obra-menor-no-02-2023', 'https://www.unne.edu.ar/ods', 'https://www.unne.edu.ar/nuevas-configuraciones-en-los-campos-y-practicas-profesionales', 'https://www.unne.edu.ar/agenda/eventos/jornada-de-capacitacion-sobre-el-regimen-de-contrataciones-2/ical', 'https://www.unne.edu.ar/concursos/facultad-de-ingenieria-concurso-docente-no-746-23-c-s', 'https://www.unne.edu.ar/propuesta-integral-eje-no3-relaciones-interpersonales-en-el-ambiente-de-trabajo', 'https://www.unne.edu.ar/extension/novedad.php', 'https://www.unne.edu.ar/agenda/eventos/punto-unne-programa-de-tv-2024-03-01', 'https://www.unne.edu.ar/neaciencia', 'https://www.unne.edu.ar/agenda/eventos/punto-unne-programa-de-tv-2-2025-05-30/ical', 'https://www.unne.edu.ar/concursos/facultad-de-medicina-concurso-no-docente-res-no-033-23-d', 'https://www.unne.edu.ar/prinuar-nuevo-programa-para-la-categorizacion-de-docentes-investigadores', 'https://www.unne.edu.ar/agenda/eventos/locations/centro-cultural-nordeste', 'https://www.unne.edu.ar/concursos/facultad-de-ciencias-odontologia-concurso-docente-res-no-205-25-d', 'https://www.unne.edu.ar/nosotros/dgpiu/portaldetransparencia', 'https://www.unne.edu.ar/programa-de-acompanamiento-academico-a-la-terminalidad-de-carreras-de-doctorado-segunda-parte-2025', 'https://www.unne.edu.ar/tercer-boletin-informativo-del-programa-de-formacion-docente-continua', 'https://www.unne.edu.ar/agenda/eventos/curso-mooc-introduccion-a-la-administracion-y-gestion-cooperativa', 'https://www.unne.edu.ar/perfiles-digitales-academicos-una-herramienta-para-la-visibilidad-en-la-produccion-cientifica', 'https://www.unne.edu.ar/huarpe', 'https://www.unne.edu.ar/agenda/eventos/2025-05-29', 'https://www.unne.edu.ar/agenda/eventos/capacitaciones-para-observadores-estudiantiles-en-concursos-docentes-2', 'https://www.unne.edu.ar/agenda/eventos/locations/centro-cultural-universitario', 'https://www.unne.edu.ar/obras/cotizacion-de-obra-division-de-sala-de-subsuelo-de-biblioteca-central', 'https://www.unne.edu.ar/agenda/eventos/paso-a-la-inmortalidad-del-gral-martin-miguel-de-guemes-2-2024-06-16', 'https://www.unne.edu.ar/estudiar/diplomas/certificacion-pase', 'https://www.unne.edu.ar/agenda/eventos/entrega-de-premios-unnetec-acelera/ical', 'https://www.unne.edu.ar/agenda/eventos', 'https://www.unne.edu.ar/concursos/facultad-de-ciencias-exactas-y-naturales-y-agrimensura-concurso-docente-res-no-871-23-921-23-922-23-y-923-23-del-c-s', 'https://www.unne.edu.ar/concursos/secretaria-general-de-planeamiento-instituto-rectorado-llamado-a-concurso-no-docente-res-no3040-23-r', 'https://www.unne.edu.ar/agenda/eventos/punto-unne-programa-de-tv-2-2025-05-16', 'https://www.unne.edu.ar/agenda/eventos/paso-a-la-inmortalidad-del-general-manuel-belgrano-2024-06-20', 'https://www.unne.edu.ar/nosotros/autoridades/organigrama', 'https://www.unne.edu.ar/concursos/facultad-de-ciencias-exactas-y-naturales-y-agrimensura-concurso-docente-no-747-23-c-s', 'https://www.unne.edu.ar/agenda/eventos/punto-unne-programa-de-tv-2024-03-15', 'https://www.unne.edu.ar/agenda/eventos/punto-unne-programa-de-tv-2024-04-19', 'https://www.unne.edu.ar/concursos/secretaria-general-de-planeamiento-instituto-rectorado-llamado-a-concurso-no-docente-res-no7513-24-r', 'https://www.unne.edu.ar/estudiar', 'https://www.unne.edu.ar/coordinacion-general-de-institutos-de-investigacion', 'https://www.unne.edu.ar/agenda/eventos/ciclo-de-talleres-presenciales-gestiona-tu-emprendimiento-talle-1-desarrollo-de-modelos-de-negocio-y-propuesta-de-valor/ical', 'https://www.unne.edu.ar/concursos/facultad-de-ciencias-exactas-y-naturales-y-agrimensura-concurso-docente-res-2024-267-2024-330-2024-331-2024-407-2024-408-y-2024-409-del-c-d', 'https://www.unne.edu.ar/concursos/facultad-de-ciencias-exactas-y-naturales-y-agrimensura-concurso-docente-res-no-551-24-650-24-670-24-783-24-785-24-y-786-24-del-c-d', 'https://www.unne.edu.ar/concursos/facultad-de-artes-diseno-y-ciencias-de-la-cultura-llamado-a-concurso-no-docente-res-no820-24-d', 'https://www.unne.edu.ar/primer-boletin-informativo-del-programa-de-formacion-docente-continua', 'https://www.unne.edu.ar/agenda/eventos/kermes-de-la-salud-2', 'https://www.unne.edu.ar/convocatorias-pila-2025-2', 'https://www.unne.edu.ar/concursos/secretaria-general-de-ciencia-y-tecnica-instituto-rectorado-llamado-a-concurso-no-docente-res-no3371-23-r', 'https://www.unne.edu.ar/agenda/eventos/punto-unne-programa-de-tv-2-2025-05-16/ical', 'https://www.unne.edu.ar/agenda/eventos/ciclo-de-talleres-presenciales-gestiona-tu-emprendimiento-talle-3-marketing-para-emprendedores-redes-sociales-ia-en-tu-emprendimiento/ical', 'https://www.unne.edu.ar/agenda/eventos/jornada-de-capacitacion-sobre-el-regimen-de-contrataciones/ical', 'https://www.unne.edu.ar/investigar/simposio_neaciencia', 'https://www.unne.edu.ar/agenda/eventos/categorias/sec-gral-de-relaciones-interinstitucionales/page/2', 'https://www.unne.edu.ar/nosotros/unne-en-cifras', 'https://www.unne.edu.ar/nosotros/unneparasiempre', 'https://www.unne.edu.ar/agenda/eventos/nanos-encuentros-taller-edicion-rapida-de-videos-con-capcut', 'https://www.unne.edu.ar/comunidad/internacionalizacion', 'https://www.unne.edu.ar/comunidad/ccu', 'https://www.unne.edu.ar/concursos/facultad-de-ciencias-exactas-y-naturales-y-agrimensura-concurso-docente-res-no-no-2024-41-y-modif-2024-155-2024-72-2024-92-2024-94-2024-95-2024-97-2024-98-2024-111-y-2024-248-del-c-d', 'https://www.unne.edu.ar/emprendedorismo', 'https://www.unne.edu.ar/lineas-de-financiamiento-del-profin-unne', 'https://www.unne.edu.ar/agenda/eventos/2025-05-27', 'https://www.unne.edu.ar/obras/solicitud-de-cotizacion-de-obra-remodelacion-patio-interno-central-rectorado', 'https://www.unne.edu.ar/programa-de-becas-de-movilidad-entre-universidades-andaluzas-e-iberoamericanas-2025', 'https://www.unne.edu.ar/bienestar/polideportivo', 'https://www.unne.edu.ar/convocatorias-abiertas-para-becas-a-estudiantes-y-docentes-del-mes-de-mayo-junio-2025', 'https://www.unne.edu.ar/concursos/facultad-de-artes-diseno-y-ciencias-de-la-cultura-concurso-docente-res-no-553-24-d', 'https://www.unne.edu.ar/diplomatura-superior-en-practica-docente-universitaria-segunda-cohorte-2025', 'https://www.unne.edu.ar/obras/obra-por-administracion-oficina-de-bienestar-laboral', 'https://www.unne.edu.ar/concursos/facultad-de-ciencias-agrarias-concurso-docente-res-no-0802-23-d', 'https://www.unne.edu.ar/nosotros/trabajar-en-la-unne/eleccion-consejeros-superiores', 'https://www.unne.edu.ar/concursos/facultad-de-ciencias-agrarias-concurso-docente-res-no-134-24-d', 'https://www.unne.edu.ar/obras/solicita-presupuesto-rampa-de-acceso-departamento-de-idiomas', 'https://www.unne.edu.ar/agenda/eventos/semana-circular', 'https://www.unne.edu.ar/concursos/facultad-de-ciencias-veterinarias-concurso-docente-res-no-264-25-d-y-140-25-cd', 'https://www.unne.edu.ar/nuevas-becas-de-posgrado-para-estudiar-en-el-exterior', 'https://www.unne.edu.ar/agenda/eventos/la-semana-del-sol-3/ical', 'https://www.unne.edu.ar/agenda/eventos/categorias/sec-gral-de-relaciones-interinstitucionales', 'https://www.unne.edu.ar/unneparasiempre', 'https://www.unne.edu.ar/nosotros/tics/firma-digital', 'https://www.unne.edu.ar/lop/licitacion-privada-regimen-de-obra-publica-no-01-2023', 'https://www.unne.edu.ar/financiamiento-para-estadias-de-investigacion-doctoral-en-institutos-max-planck-de-alemania', 'https://www.unne.edu.ar/lop/contratacion-directa-obra-menor-no-01-2023', 'https://www.unne.edu.ar/concursos/facultad-de-ciencias-odontologia-concurso-docente-res-no-207-25-d', 'https://www.unne.edu.ar/concursos/secretaria-general-academica-instituto-rectorado-llamado-a-concurso-no-docente-res-no3039-23-r', 'https://www.unne.edu.ar/concursos/facultad-de-ingenieria-concursos-docentes-marzo-2025', 'https://www.unne.edu.ar/agenda/eventos/categorias/coordinacion-de-comunicacion', 'https://www.unne.edu.ar/estudiar/posgrado/especializaciones', 'https://www.unne.edu.ar/concursos/facultad-de-ciencias-exactas-y-naturales-y-agrimensura-concurso-docente-res-no-831-23-y-861-23-del-c-d', 'https://www.unne.edu.ar/agenda/eventos/jornadas-pre-congreso-de-educacion-y-tecnologias-del-mercosur-4', 'https://www.unne.edu.ar/financiamiento-de-becas-de-movilidad-para-investigadores-as-de-la-provincia-del-chaco', 'https://www.unne.edu.ar/agenda/eventos/capacitacion-ia-para-potenciar-tu-emprendimiento/ical', 'https://www.unne.edu.ar/agenda/eventos/fosiles-en-rectorado/ical', 'https://www.unne.edu.ar/agenda/eventos/punto-unne-programa-de-tv-2-2025-05-23', 'https://www.unne.edu.ar/agenda/eventos/jornada-de-vinculacion-en-la-unne-innovacion-y-desarrollo-sostenible-en-la-region-del-ibera', 'https://www.unne.edu.ar/ccn', 'https://www.unne.edu.ar/concursos/facultad-de-ciencias-exactas-y-naturales-y-agrimensura-concurso-docente-res-no-2024-695-2024-696-y-2024-698-del-c-s', 'https://www.unne.edu.ar/nosotros/informacion-de-contacto', 'https://www.unne.edu.ar/agenda/eventos/jornada-de-capacitacion-sobre-el-regimen-de-contrataciones-2', 'https://www.unne.edu.ar/lop/contratacion-directa-regimen-de-obra-publica-no-03-2024', 'https://www.unne.edu.ar/becas-postdoctorales-para-estadias-de-investigacion-en-europa-destinadas-a-investigadores-as-latinoamericanos-as', 'https://www.unne.edu.ar/bienestar/retounne', 'https://www.unne.edu.ar/financiamiento-de-los-sistemas-nacionales-de-grandes-equipamientos', 'https://www.unne.edu.ar/investigar', 'https://www.unne.edu.ar/agenda/eventos/2025-05-08', 'https://www.unne.edu.ar/agenda/eventos/expo-trabajo-unne-2025', 'https://www.unne.edu.ar/agenda/eventos/punto-unne-programa-de-tv-2-2025-05-30', 'https://www.unne.edu.ar/estudiar/posgrado/diplomaturas-y-actividades-de-posgrado', 'https://www.unne.edu.ar/agenda/eventos/ciclo-de-conferencias-2025-del-instituto-agrotecnico-pedro-m-fuentes-godo/ical', 'https://www.unne.edu.ar/estudiar/facultades/ofertas-academicas-de-grado', 'https://www.unne.edu.ar/firma-digital', 'https://www.unne.edu.ar/estudiar/centros-regionales', 'https://www.unne.edu.ar/nosotros/historia', 'https://www.unne.edu.ar/unidad-de-auditoria-interna', 'https://www.unne.edu.ar/agenda/eventos/charla-taller-salud-mental', 'https://www.unne.edu.ar/estudiar/diplomas/certificacion-de-titulos-secundarios', 'https://www.unne.edu.ar/agenda/eventos/categorias/extension-universitaria/page/2', 'https://www.unne.edu.ar/auditoria-externa-agn', 'https://www.unne.edu.ar/agenda/eventos/2025-05-14', 'https://www.unne.edu.ar/concursos/facultad-de-humanidades-concurso-res-no251-24-cs-y-400-24-d', 'https://www.unne.edu.ar/concursos/facultad-de-humanidades-concurso-res-no-519-24-del-c-d', 'https://www.unne.edu.ar/agenda/eventos/capacitacion-ia-para-potenciar-tu-emprendimiento', 'https://www.unne.edu.ar/obras/solicitud-de-cotizacion-de-obra-refaccion-de-altillo-rectorado-unne', 'https://www.unne.edu.ar/convocatoria-de-informes-bienales-de-gi', 'https://www.unne.edu.ar/curso-la-investigacion-educativa-en-la-docencia-universitaria', 'https://www.unne.edu.ar/agenda/eventos/curso-mooc-la-inteligencia-artificial-en-el-aula', 'https://www.unne.edu.ar/concursos/issunne-llamado-a-concurso-no-docente-res-no3480-23-r', 'https://www.unne.edu.ar/concursos/facultad-de-arquitectura-y-urbanismo-concurso-docente-res-no-0522-23-d', 'https://www.unne.edu.ar/estudiar/diplomas', 'https://www.unne.edu.ar/concursos/facultad-de-ciencias-agrarias-concurso-docente-res-no-130-24-d', 'https://www.unne.edu.ar/estudiar/inscripciones/ingresantes-mayores-de-25-sin-titulo-secundario', 'https://www.unne.edu.ar/agenda/eventos/curso-de-construccion-en-seco-para-mujeres', 'https://www.unne.edu.ar/agenda/eventos/nano-encuentros-con-las-tecnologias-digitales', 'https://www.unne.edu.ar/agenda/eventos/jornadas-pre-congreso-de-educacion-y-tecnologias-del-mercosur-3/ical', 'https://www.unne.edu.ar/concursos/facultad-de-humanidades-concurso-docente-res-no-461-23-del-c-d', 'https://www.unne.edu.ar/concursos/facultad-de-humanidades-concurso-res-no-462-23-del-c-d', 'https://www.unne.edu.ar/agenda/eventos/la-unne-lanza-la-segunda-edicion-de-su-feria-del-libro-en-el-ccn', 'https://www.unne.edu.ar/becas', 'https://www.unne.edu.ar/concursos/facultad-de-artes-diseno-y-ciencias-de-la-cultura-concurso-no-docente-res-no-614-23-d', 'https://www.unne.edu.ar/agenda/eventos/2025-05-07', 'https://www.unne.edu.ar/concursos/facultad-de-ciencias-exactas-y-naturales-y-agrimensura-concurso-docente-res-no815-25-d', 'https://www.unne.edu.ar/agenda/eventos/encuentro-proyecto-fortalecimiento-de-las-oris-unne', 'https://www.unne.edu.ar/agenda/eventos/campana-de-vacunacion-delegacion-asuntos-sociales', 'https://www.unne.edu.ar/agenda/eventos/jornadas-pre-congreso-de-educacion-y-tecnologias-del-mercosur-2', 'https://www.unne.edu.ar/agenda/eventos/2025-05-30', 'https://www.unne.edu.ar/comunidad/internacionalizacion/5', 'https://www.unne.edu.ar/nosotros/unidad-de-evaluacion-y-acreditacion-universitaria/espaciodeaportes', 'https://www.unne.edu.ar/agenda/eventos/workshop-de-innovacion-bpi-y-unne', 'https://www.unne.edu.ar/agenda/eventos/reunion-coaa-unne-2', 'https://www.unne.edu.ar/resoluciones-de-acreditacion-de-anos-anteriores', 'https://www.unne.edu.ar/becas-cofinanciadas', 'https://www.unne.edu.ar/nosotros/trabajar-en-la-unne/tramites', 'https://www.unne.edu.ar/estudiar/diplomas/legalizacion-de-titulo-universitario', 'https://www.unne.edu.ar/obras/obra-por-administracion-reforma-de-patio-lateral-interno-rectorado-unne', 'https://www.unne.edu.ar/bienestar/salud-estudiantil', 'https://www.unne.edu.ar/obras/obra-por-administracion-reparacion-de-cubierta-y-cielorraso-con-nueva-inst-electrica-de-luminaria-depto-de-archivos-llamado-a-presentacion-de-ofertas', 'https://www.unne.edu.ar/curso-sujetos-jovenes-y-adultos-y-sus-procesos-de-formacion-en-la-universidad', 'https://www.unne.edu.ar/estudiar/posgrado/estudiar-en-el-exterior', 'https://www.unne.edu.ar/agenda/eventos/exposicion-de-obara-tesoros-del-gran-chaco', 'https://www.unne.edu.ar/concursos/secretaria-general-legal-y-tecnica-instituto-rectorado-llamado-a-concurso-no-docente-res-no3372-23-r', 'https://www.unne.edu.ar/agenda/eventos/punto-unne-programa-de-tv-2-2025-05-09/ical', 'https://www.unne.edu.ar/nosotros/ods', 'https://www.unne.edu.ar/agenda/eventos/la-semana-del-sol-2', 'https://www.unne.edu.ar/agenda/eventos/sentidos-y-practicas-en-torno-al-trabajo-la-cultura-y-el-genero-en-chaco-y-corrientes/ical', 'https://www.unne.edu.ar/agenda/eventos/1-kermes-de-la-salud', 'https://www.unne.edu.ar/obras/obra-por-administracion-cambio-de-cubierta-y-reparacion-de-filtraciones-del-area-administrativa-dgie-rectorado-unne', 'https://www.unne.edu.ar/agenda/eventos/feriado-puente', 'https://www.unne.edu.ar/concursos/comtulab-unne-llamado-a-concurso-no-docente-res-no7516-24-r', 'https://www.unne.edu.ar/nosotros/trabajar-en-la-unne', 'https://www.unne.edu.ar/somos-unne/trabajar-en-la-unne', 'https://www.unne.edu.ar/solicitud-para-uso-de-vehiculos-de-la-secretaria-general-de-ciencia-y-tecnica', 'https://www.unne.edu.ar/estudiar/facultades', 'https://www.unne.edu.ar/bienestar/jardines', 'https://www.unne.edu.ar/investigar/evaluacion-institucional', 'https://www.unne.edu.ar/agenda/eventos/categorias/recesos-feriados-y-dias-no-laborables/page/2', 'https://www.unne.edu.ar/', 'https://www.unne.edu.ar/concursos/facultad-de-humanidades-concurso-res-no-16-24-del-c-d', 'https://www.unne.edu.ar/nosotros/tics/manualdiplomas', 'https://www.unne.edu.ar/concursos/facultad-de-ingenieria-concurso-docente-marzo-2024', 'https://www.unne.edu.ar/concursos/facultad-de-ciencias-exactas-y-naturales-y-agrimensura-concurso-docente-res-no341-23-del-c-s', 'https://www.unne.edu.ar/investigar/reuniones-cientificas-y-tecnologicas', 'https://www.unne.edu.ar/agenda/eventos/locations/campus-sargento-cabral', 'https://www.unne.edu.ar/agenda/eventos/dia-del-trabajador-2024-05-01', 'https://www.unne.edu.ar/concursos/facultad-de-ciencias-agrarias-concurso-docente-res-no-40-24-d', 'https://www.unne.edu.ar/estudiar/extensiones-aulicas', 'https://www.unne.edu.ar/socios-estrategicos', 'https://www.unne.edu.ar/comunidad/servicio-de-microscopia-electronica-de-barrido', 'https://www.unne.edu.ar/agenda/eventos/dia-de-la-revolucion-de-mayo-2025-05-25/ical', 'https://www.unne.edu.ar/agenda/eventos/categorias/sec-gral-academica', 'https://www.unne.edu.ar/agenda/eventos/1a-feria-de-emprendedores-universitarios', 'https://www.unne.edu.ar/concursos/facultad-de-ciencias-exactas-y-naturales-y-agrimensura-concurso-docente-res-no-105-23-894-23-915-23-y-917-23-del-c-d', 'https://www.unne.edu.ar/agenda/eventos/entrega-de-premios-unnetec-acelera', 'https://www.unne.edu.ar/agenda/eventos/punto-unne-programa-de-tv-2024-03-29', 'https://www.unne.edu.ar/concursos/facultad-de-ciencias-odontologia-concurso-docente-res-no-206-25-d', 'https://www.unne.edu.ar/concursos/facultad-de-ciencias-exactas-y-naturales-y-agrimensura-concurso-no-docente-res-no-1702-23-d', 'https://www.unne.edu.ar/coordinacion-escuelas-secundarias-tecnicas-2', 'https://www.unne.edu.ar/concursos/facultad-de-ciencias-economicas-concurso-mayores-dedicaciones', 'https://www.unne.edu.ar/sistemas.unne.edu.ar', 'https://www.unne.edu.ar/seminario-de-posgrado-pensar-la-clase-y-pensar-la-practica', 'https://www.unne.edu.ar/nosotros/unidad-de-auditoria-interna', 'https://www.unne.edu.ar/concursos/facultad-de-humanidades-concurso-docente-res-no-460-23-del-c-d', 'https://www.unne.edu.ar/obras/solicitud-de-cotizacion-de-obra-tareas-necesarias-previas-al-traslado-del-instituto-a-la-sede-situada-por-calle-25-de-mayo-1023', 'https://www.unne.edu.ar/concursos-unne/concursos-no-docentes', 'https://www.unne.edu.ar/agenda/eventos/sesion-de-consejo-superior-2024-05-22', 'https://www.unne.edu.ar/nosotros/dgpiu', 'https://www.unne.edu.ar/manualdiplomas', 'https://www.unne.edu.ar/somos-unne/normativas', 'https://www.unne.edu.ar/somos-unne/unne-en-cifras', 'https://www.unne.edu.ar/agenda/eventos/categorias/asuntos-sociales/page/2', 'https://www.unne.edu.ar/diplomatura-superior-en-practica-docente-universitaria', 'https://www.unne.edu.ar/agenda/eventos/ciclo-de-talleres-presenciales-gestiona-tu-emprendimiento-talle-2-costos-modelo-de-egreso-e-ingreso/ical', 'https://www.unne.edu.ar/concursos/instituto-rectorado-res-no-638-24-r', 'https://www.unne.edu.ar/agenda/eventos/categorias/recesos-feriados-y-dias-no-laborables', 'https://www.unne.edu.ar/concursos/escuela-regional-de-agricultura-ganaderia-e-industrias-afines-eragia-concurso-no-docente-res-no-3913-23-r', 'https://www.unne.edu.ar/agenda/eventos/la-semana-del-sol-3', 'https://www.unne.edu.ar/portaldetransparencia', 'https://www.unne.edu.ar/convocatoria-abierta-programa-escala-estudiantil-augm-2025', 'https://www.unne.edu.ar/concursos/secretaria-general-de-asuntos-sociales-instituto-rectorado-llamado-a-concurso-no-docente-res-no7515-24-r', 'https://www.unne.edu.ar/concursos/instituto-de-ciencias-criminalisticas-y-criminologia-concurso-no-docente-res-no-3875-23-r', 'https://www.unne.edu.ar/agenda/eventos/encuentro-proyecto-fortalecimiento-de-las-oris-unne-2', 'https://www.unne.edu.ar/agenda/eventos/categorias/extension-universitaria', 'https://www.unne.edu.ar/agenda/eventos/categorias/instituto-agrotecnico', 'https://www.unne.edu.ar/agenda/eventos/locations/campus-deodoro-roca', 'https://www.unne.edu.ar/concursos/facultad-de-ingenieria-concursos-docentes-junio-2024', 'https://www.unne.edu.ar/concursos/facultad-de-artes-diseno-y-ciencias-de-la-cultura-llamado-a-concurso-no-docente-res-no823-24-d', 'https://www.unne.edu.ar/agenda/eventos/ciclo-de-conferencias-2025-del-instituto-agrotecnico-pedro-m-fuentes-godo', 'https://www.unne.edu.ar/agenda/eventos/charla-sobre-compostaje', 'https://www.unne.edu.ar/agenda/eventos/la-semana-del-sol', 'https://www.unne.edu.ar/concursos/facultad-de-ciencias-agrarias-concurso-docente-res-no-287-23-d', 'https://www.unne.edu.ar/agenda/eventos/kermes-de-la-salud-2/ical', 'https://www.unne.edu.ar/nosotros', 'https://www.unne.edu.ar/concursos/facultad-de-artes-diseno-y-ciencias-de-la-cultura-llamado-a-concurso-no-docente-res-no822-24-d', 'https://www.unne.edu.ar/concursos/facultad-de-ciencias-agrarias-concurso-docente-res-no-14-25-d', 'https://www.unne.edu.ar/agenda/eventos/sesion-de-consejo-superior-2024-06-19', 'https://www.unne.edu.ar/concursos/facultad-de-artes-diseno-y-ciencias-de-la-cultura-concurso-docente-res-no-426-24-d', 'https://www.unne.edu.ar/agenda/eventos/nueva-exposicion-en-la-sala-del-sol-del-ccu-n%f0%9d%90%9ee-%f0%9d%90%ab%f0%9d%90%9a%f0%9d%90%a2%f0%9d%90%ad%f0%9d%90%b2/ical', 'https://www.unne.edu.ar/agenda/eventos/2025-04-29', 'https://www.unne.edu.ar/agenda/eventos/jornadas-pre-congreso-de-educacion-y-tecnologias-del-mercosur-4/ical', 'https://www.unne.edu.ar/concursos/facultad-de-ingenieria-concurso-docente-julio-2023', 'https://www.unne.edu.ar/concursos/facultad-de-ciencias-exactas-y-naturales-y-agrimensura-concurso-docente-res-no765-25-d', 'https://www.unne.edu.ar/agenda/eventos/jornadas-pre-congreso-de-educacion-y-tecnologias-del-mercosur/ical', 'https://www.unne.edu.ar/agenda/eventos/ciclo-de-talleres-presenciales-gestiona-tu-emprendimiento-talle-1-desarrollo-de-modelos-de-negocio-y-propuesta-de-valor', 'https://www.unne.edu.ar/investigar/coordinacion-general-de-institutos-de-investigacion', 'https://www.unne.edu.ar/comunidad/internacionalizacion/3', 'https://www.unne.edu.ar/becas-internas-de-investigacion', 'https://www.unne.edu.ar/nosotros/comunicacion-e-imagen-institucional/recomendaciones-para-la-gestion-de-crisis', 'https://www.unne.edu.ar/agenda/eventos/1-encuentro-de-conocimientos-del-ibera/ical', 'https://www.unne.edu.ar/obras/solicitud-de-cotizacion-de-obra-lactario-y-sala-de-atencion-medica-primaria', 'https://www.unne.edu.ar/agenda/eventos/curso-de-instalaciones-electricas-domiciliarias', 'https://www.unne.edu.ar/agenda/eventos/jornadas-pre-congreso-de-educacion-y-tecnologias-del-mercosur-2/ical', 'https://www.unne.edu.ar/agenda/eventos/jornadas-pre-congreso-de-educacion-y-tecnologias-del-mercosur-3', 'https://www.unne.edu.ar/estudiar/diplomas/revalida-de-titulos-universitarios-extranjeros', 'https://www.unne.edu.ar/agenda/eventos/punto-unne-programa-de-tv-2024-04-12', 'https://www.unne.edu.ar/nosotros/autoridades/unidades-academicas', 'https://www.unne.edu.ar/concursos/facultad-de-ingenieria-concursos-docentes-agosto-2024', 'https://www.unne.edu.ar/bienestar/comedores', 'https://www.unne.edu.ar/agenda/eventos/ciclo-de-talleres-presenciales-gestiona-tu-emprendimiento-talle-4-comunicacion-creativa/ical', 'https://www.unne.edu.ar/agenda/eventos/exposicion-de-obara-tesoros-del-gran-chaco/ical', 'https://www.unne.edu.ar/bienestar/becas', 'https://www.unne.edu.ar/agenda/eventos/categorias', 'https://www.unne.edu.ar/estudiar/inscripcion-a-carreras-de-grado', 'https://www.unne.edu.ar/agenda/eventos/ciclo-de-jornadas-universidad-empresa-estado-participacion-en-la-vision-del-futuro-de-la-region', 'https://www.unne.edu.ar/agenda/eventos/fosiles-en-rectorado', 'https://www.unne.edu.ar/unidades-academicas', 'https://www.unne.edu.ar/agenda/eventos/lanzamiento-concurso-emprendimiento-argentino-2025/ical', 'https://www.unne.edu.ar/curso-de-posgrado-la-educacion-sexual-integral-en-la-formacion-docente-universitaria', 'https://www.unne.edu.ar/concursos/facultad-de-humanidades-concurso-res-no-732-25-d', 'https://www.unne.edu.ar/agenda/eventos/ciclo-de-talleres-presenciales-gestiona-tu-emprendimiento-talle-3-marketing-para-emprendedores-redes-sociales-ia-en-tu-emprendimiento', 'https://www.unne.edu.ar/concursos/facultad-de-humanidades-concurso-res-no01-23-cd-y-43-23-d', 'https://www.unne.edu.ar/agenda/eventos/curso-de-construccion-en-seco-para-mujeres/ical', 'https://www.unne.edu.ar/concursos/facultad-de-ciencias-odontologia-concurso-docente-res-no-203-25-d', 'https://www.unne.edu.ar/agenda/eventos/jornadas-pre-congreso-de-educacion-y-tecnologias-del-mercosur', 'https://www.unne.edu.ar/agenda/eventos/introduccion-a-las-microcredenciales-academicas-y-su-relacion-con-la-ead/ical', 'https://www.unne.edu.ar/nosotros/unidad-de-evaluacion-y-acreditacion-universitaria', 'https://www.unne.edu.ar/agenda/eventos/categorias/gestion-unne', 'https://www.unne.edu.ar/unidad-de-evaluacion-y-acreditacion-universitaria', 'https://www.unne.edu.ar/comunidad/programasdeextension', 'https://www.unne.edu.ar/agenda/eventos/capacitaciones-para-observadores-estudiantiles-en-concursos-docentes-2/ical', 'https://www.unne.edu.ar/acreditacion-programas-y-proyectos', 'https://www.unne.edu.ar/somos-unne/unidad-de-evaluacion-y-acreditacion-universitaria', 'https://www.unne.edu.ar/concursos/facultad-de-ciencias-exactas-y-naturales-y-agrimensura-concurso-docente-no-694-23-702-23-703-23-740-23-y-744-23-del-c-d', 'https://www.unne.edu.ar/agenda/eventos/jornada-de-capacitacion-sobre-el-regimen-de-contrataciones', 'https://www.unne.edu.ar/concursos/facultad-de-ciencias-odontologia-concurso-docente-res-no-197-25-d', 'https://www.unne.edu.ar/estudiar/posgrado/programa-de-posdoctorado', 'https://www.unne.edu.ar/somos-unne/autoridades', 'https://www.unne.edu.ar/propuesta-integral-eje-no2-gobierno-digital-modernizacion', 'https://www.unne.edu.ar/agenda/eventos/locations/campus-resistencia', 'https://www.unne.edu.ar/agenda/eventos/proyecto-erasmus-bravioo-webinar-rol-e-importancia-de-las-defensorias-universitarias-en-america-latina-y-europa', 'https://www.unne.edu.ar/agenda/eventos/dia-nacional-de-la-memoria-por-la-verdad-y-la-justicia-2024-03-24', 'https://www.unne.edu.ar/concursos/facultad-de-ciencias-agrarias-concurso-docente-res-no-0477-23-d', 'https://www.unne.edu.ar/licitaciones-por-obra-publica', 'https://www.unne.edu.ar/unne-salud', 'https://www.unne.edu.ar/concursos/facultad-de-arquitectura-y-urbanismo-concurso-no-docente-res-no-0463-22-d-2', 'https://www.unne.edu.ar/agenda/eventos/apertura-de-la-2da-cohorte-de-la-diplomatura-de-alfabetizacion-inicial', 'https://www.unne.edu.ar/concursos/secretaria-general-administrativa-instituto-rectorado-llamado-a-concurso-no-docente-res-no3038-23-r', 'https://www.unne.edu.ar/nosotros/trabajar-en-la-unne/adicional-por-titulo', 'https://www.unne.edu.ar/nosotros/trabajar-en-la-unne/formacion-docente-continua', 'https://www.unne.edu.ar/nosotros/trabajar-en-la-unne/concursos-unne', 'https://www.unne.edu.ar/agenda/eventos/punto-unne-programa-de-tv-2024-03-22', 'https://www.unne.edu.ar/concursos/facultad-de-ciencias-agrarias-concurso-docente-res-no-733-24-d', 'https://www.unne.edu.ar/concursos/facultad-de-ciencias-agrarias-concurso-docente-res-no-0476-23-d', 'https://www.unne.edu.ar/obras-por-administracion', 'https://www.unne.edu.ar/comunidad/cest', 'https://www.unne.edu.ar/concursos-unne/concursos-docentes', 'https://www.unne.edu.ar/taller-concepciones-de-la-extension-universitaria-sus-implicancias-en-la-practica-docente-y-experiencias-de-proyectos-en-la-unne', 'https://www.unne.edu.ar/concursos/facultad-de-ciencias-veterinarias-concurso-no-docente-res-no-979-23-d', 'https://www.unne.edu.ar/agenda/eventos/expo-trabajo-unne', 'https://www.unne.edu.ar/estudiar/posgrado/maestrias', 'https://www.unne.edu.ar/concursos/facultad-de-humanidades-concurso-res-no-803-25-d', 'https://www.unne.edu.ar/concursos/instituto-de-servicios-sociales-issunne-llamado-a-concurso-no-docente-res-n-2287-25-r', 'https://www.unne.edu.ar/concursos/facultad-de-ciencias-agrarias-concurso-docente-res-no-637-24-d', 'https://www.unne.edu.ar/concursos/facultad-de-ciencias-agrarias-concurso-docente-res-no-633-24-d', 'https://www.unne.edu.ar/concursos/instituto-rectorado-llamado-a-concurso-no-docente-res-no7679-24-r', 'https://www.unne.edu.ar/agenda/eventos/vuelve-el-ciclo-%f0%9d%91%a8-%f0%9d%92%91%f0%9d%92%96%f0%9d%92%93%f0%9d%92%82-%f0%9d%92%8d%f0%9d%92%8a%f0%9d%92%95%f0%9d%92%86%f0%9d%92%93%f0%9d%92%82%f0%9d%92%95%f0%9d%92%96%f0%9d%92%93', 'https://www.unne.edu.ar/concursos/facultad-de-ciencias-exactas-y-naturales-y-agrimensura-concurso-docente-res-no-322-23-377-23-y-378-23-del-c-d', 'https://www.unne.edu.ar/estudiar/diplomas/legalizaciones-de-planes-de-estudios-y-programas', 'https://www.unne.edu.ar/ccu', 'https://www.unne.edu.ar/concursos/facultad-de-ciencias-agrarias-concurso-docente-res-no-564-24-d', 'https://www.unne.edu.ar/obras/obra-por-administracion-nuevos-banos-sector-construcciones-llamado-a-presentacion-de-ofertas', 'https://www.unne.edu.ar/concursos/facultad-de-ingenieria-concurso-mayores-dedicaciones', 'https://www.unne.edu.ar/curso-de-posgrado-introduccion-a-la-perspectiva-de-genero-y-los-estudios-feministas-corrientes-y-debates', 'https://www.unne.edu.ar/agenda/eventos/la-semana-del-sol/ical', 'https://www.unne.edu.ar/revalida-de-titulos-universitarios-extranjeros', 'https://www.unne.edu.ar/agenda/eventos/nanos-encuentros', 'https://www.unne.edu.ar/concursos/facultad-de-ciencias-agrarias-concurso-docente-res-no-635-24-d', 'https://www.unne.edu.ar/concursos/facultad-de-ciencias-odontologia-concurso-docente-res-no-202-25-d', 'https://www.unne.edu.ar/subsidios-para-posgrados', 'https://www.unne.edu.ar/agenda/eventos/sesion-de-consejo-superior-2024-07-03', 'https://www.unne.edu.ar/encuesta-a-docentes', 'https://www.unne.edu.ar/nosotros/obras-por-administracion', 'https://www.unne.edu.ar/ofertas-academicas-de-grado', 'https://www.unne.edu.ar/convocatoria-de-financiamiento-para-proyectos-de-investigacion-colaborativa-con-instituciones-cientificas-de-china', 'https://www.unne.edu.ar/convalidaciones', 'https://www.unne.edu.ar/obras/obra-por-administracion-instalacion-de-placas-antihumedad-en-paredes-de-aulas-y-areas-administrativas-impermeabilizacion-de-techos-y-reparaciones-varias-en-banos-damas-y-caballeros-centro', 'https://www.unne.edu.ar/xxx-reunion-de-comunicaciones-cientificas-y-tecnologicas-2025', 'https://www.unne.edu.ar/estudiar/posgrado/fortalecimientodelposgrado', 'https://www.unne.edu.ar/concursos/instituto-de-ciencias-criminalisticas-y-criminologia-llamado-a-concurso-no-docente-res-no8114-24-r', 'https://www.unne.edu.ar/comunidad/sgri', 'https://www.unne.edu.ar/comunidad/direccion-de-politicas-de-genero-y-diversidad', 'https://www.unne.edu.ar/concursos/facultad-de-ciencias-agrarias-concurso-docente-res-no-636-24-d', 'https://www.unne.edu.ar/nosotros/auditoria-externa-agn', 'https://www.unne.edu.ar/nosotros/licitaciones-por-obra-publica', 'https://www.unne.edu.ar/agenda/eventos/feriado-con-fines-turisticos/ical', 'https://www.unne.edu.ar/agenda/eventos/inauguracion-del-espacio-plasma-de-jose-bejarano', 'https://www.unne.edu.ar/idiomas', 'https://www.unne.edu.ar/propuesta-integral-eje-no4-higiene-seguridad-y-medio-ambiente-de-trabajo', 'https://www.unne.edu.ar/concursos/facultad-de-ciencias-exactas-y-naturales-y-agrimensura-concurso-docente-res-no-986-23-987-23-y-1063-23-del-c-d', 'https://www.unne.edu.ar/agenda/eventos/capacitaciones-para-observadores-estudiantiles-en-concursos-docentes-3/ical', 'https://www.unne.edu.ar/agenda/eventos/dia-del-trabajador-2025-05-01/ical', 'https://www.unne.edu.ar/estudiar/eep', 'https://www.unne.edu.ar/acreditacion-de-carreras-de-posgrado', 'https://www.unne.edu.ar/concursos/facultad-de-ciencias-veterinarias-concurso-docente-res-no-1176-24-d', 'https://www.unne.edu.ar/concursos/facultad-de-ciencias-agrarias-concurso-docente-res-no-634-24-d', 'https://www.unne.edu.ar/comunidad', 'https://www.unne.edu.ar/concursos/facultad-de-ciencias-odontologia-concurso-docente-res-no-200-25-d', 'https://www.unne.edu.ar/agenda/eventos/capacitaciones-para-observadores-estudiantiles-en-concursos-docentes-3', 'https://www.unne.edu.ar/concursos/facultad-de-ciencias-exactas-y-naturales-y-agrimensura-concurso-docente-res-no-2024-10-2024-11-2024-37-2024-250-2024-336-2024-337-y-2024-338-del-c-s', 'https://www.unne.edu.ar/agenda/eventos/categorias/sec-gral-academica/page/2', 'https://www.unne.edu.ar/expedientes.unne.edu.ar', 'https://www.unne.edu.ar/investigar/becas-de-investigacion', 'https://www.unne.edu.ar/somos-unne/comunicacion-e-imagen-institucional', 'https://www.unne.edu.ar/agenda/eventos/kermes-rosa-de-la-salud', 'https://www.unne.edu.ar/organigrama', 'https://www.unne.edu.ar/agenda/eventos/sesion-de-consejo-superior-2024-05-08', 'https://www.unne.edu.ar/agenda/eventos/11a-edicion-escuela-virtual-internacional-cavila-primeros-auxilios-psicologicos-y-emocionales-como-herramientas-para-la-comunidad', 'https://www.unne.edu.ar/comunidad/internacionalizacion/4', 'https://www.unne.edu.ar/comunidad/ccn', 'https://www.unne.edu.ar/nosotros/trabajar-en-la-unne/concursos-unne/concursos-no-docentes', 'https://www.unne.edu.ar/sudocu', 'https://www.unne.edu.ar/concursos/facultad-de-ciencias-exactas-y-naturales-y-agrimensura-concurso-docente-res-no-607-23-608-23-610-23-y-636-23-del-c-d', 'https://www.unne.edu.ar/agenda/eventos/catedra-libre-del-chamame', 'https://www.unne.edu.ar/acreditacion-de-grupos-de-investigacion', 'https://www.unne.edu.ar/nosotros/autoridades/rectorado', 'https://www.unne.edu.ar/concursos-de-becas-internas-de-investigacion-resultados-anteriores', 'https://www.unne.edu.ar/agenda/eventos/curso-de-instalaciones-electricas-domiciliarias/ical', 'https://www.unne.edu.ar/financiamiento-del-gobierno-de-canada-para-proyectos-de-investigacion-internacionales-en-areas-de-ingenieria-y-ciencias-naturales', 'https://www.unne.edu.ar/becas-en-areas-de-vacancia-y-o-prioritarias', 'https://www.unne.edu.ar/agenda/eventos/viii-jornadas-de-auditores-de-universidades-nacionales', 'https://www.unne.edu.ar/becas-de-investigacion', 'https://www.unne.edu.ar/estudiar/ovo', 'https://www.unne.edu.ar/agenda/eventos/2025-05-20', 'https://www.unne.edu.ar/internacionalizacion', 'https://www.unne.edu.ar/agenda/eventos/sesion-de-consejo-superior-2025-05-21/ical', 'https://www.unne.edu.ar/concursos/facultad-de-ciencias-agrarias-concurso-docente-res-no-342-24-d', 'https://www.unne.edu.ar/agenda/eventos/el-sistema-argentino-de-creditos-universitarios-una-oportunidad-para-la-transformacion-curricular/ical', 'https://www.unne.edu.ar/bienestar', 'https://www.unne.edu.ar/vinculacionytransferencia', 'https://www.unne.edu.ar/agenda/eventos/xxx-reunion-de-comunicaciones-cientificas-y-tecnologicas-2025', 'https://www.unne.edu.ar/concursos/facultad-de-humanidades-concurso-res-no-124-c-d', 'https://www.unne.edu.ar/concursos/facultad-de-ciencias-odontologia-concurso-docente-res-no-195-25-d', 'https://www.unne.edu.ar/agenda/eventos/dia-del-veterano-y-de-los-caidos-en-la-guerra-de-malvinas-2024-04-02', 'https://www.unne.edu.ar/solicitud-de-incentivos', 'https://www.unne.edu.ar/agenda/eventos/categorias/coordinacion-de-comunicacion/page/2', 'https://www.unne.edu.ar/bienestar/residencias', 'https://www.unne.edu.ar/estudiar/programa-pueblos-indigenas', 'https://www.unne.edu.ar/concursos/facultad-de-artes-diseno-y-ciencias-de-la-cultura-llamado-a-concurso-no-docente-res-no821-24-d', 'https://www.unne.edu.ar/agenda/eventos/punto-unne-programa-de-tv-2024-03-08', 'https://www.unne.edu.ar/apoyo-economico-anual-para-el-desarrollo-de-proyectos-de-investigacion', 'https://www.unne.edu.ar/agenda/eventos/voluntariado-ambiental-dia-del-arbol', 'https://www.unne.edu.ar/agenda/eventos/expo-trabajo-unne-2025/ical', 'https://www.unne.edu.ar/concursos/facultad-de-ciencias-agrarias-concurso-docente-res-no-0475-23-d', 'https://www.unne.edu.ar/agenda/eventos/2025-05-16', 'https://www.unne.edu.ar/agenda/eventos/sentidos-y-practicas-en-torno-al-trabajo-la-cultura-y-el-genero-en-chaco-y-corrientes', 'https://www.unne.edu.ar/obras/obra-por-adminstracion-reparacion-y-refaccion-del-sector-techo-albergue-universitario', 'https://www.unne.edu.ar/agenda/eventos/ciclo-de-talleres-presenciales-gestiona-tu-emprendimiento-talle-2-costos-modelo-de-egreso-e-ingreso', 'https://www.unne.edu.ar/obras/obra-por-administracion-banos-centrales-rectorado', 'https://www.unne.edu.ar/concursos/facultad-de-ciencias-odontologia-concurso-docente-res-no-196-25-d', 'https://www.unne.edu.ar/nosotros/departamento-de-control-de-presupuesto', 'https://www.unne.edu.ar/agenda/eventos/asignatura-formacion-para-emprendedores-universitarios-en-el-marco-de-la-catedra-libre-para-emprendedores-de-la-agencia-de-innovacion-y-desarrollo-agentia', 'https://www.unne.edu.ar/obras/12621', 'https://www.unne.edu.ar/agenda/eventos/2025-05-06', 'https://www.unne.edu.ar/bienestar/unne-salud', 'https://www.unne.edu.ar/investigar/grupos-de-investigacion', 'https://www.unne.edu.ar/investigar/categorizacion-e-incentivos', 'https://www.unne.edu.ar/agenda/eventos/locations', 'https://www.unne.edu.ar/agenda/eventos/reunion-coaa-unne-2/ical', 'https://www.unne.edu.ar/agenda/eventos/capacitacion-sobre-el-uso-y-manejo-de-extintores', 'https://www.unne.edu.ar/nosotros/tics/huarpe', 'https://www.unne.edu.ar/becas-de-estimulo-a-las-vocaciones-cientificas', 'https://www.unne.edu.ar/concursos/facultad-de-ciencias-economicas-llamado-a-concurso-docente-res-no-759-24-cd', 'https://www.unne.edu.ar/reserva/solicitud_omnibus.php', 'https://www.unne.edu.ar/lop/licitacion-publica-nacional-no-01-23-cu-011-23-unne-modulos-agro-veterinarios-de-aulas-docencia-y-desarrollos-productivos-unne-corrientes-provincia-de-corrientes', 'https://www.unne.edu.ar/bienestar/transporte', 'https://www.unne.edu.ar/concursos/facultad-de-ciencias-odontologia-concurso-docente-res-no-204-25-d', 'https://www.unne.edu.ar/agenda/eventos/torneo-recreativo-de-futbol-9-%f0%9f%8f%86-%f0%9f%91%a9%f0%9f%8f%bb%f0%9f%a6%b0-femenino-y-masculino-%f0%9f%a7%91%f0%9f%8f%bc%f0%9f%a6%b0', 'https://www.unne.edu.ar/agenda/eventos/jornada-universidad-en-territorio-politicas-publicas-para-el-desarrollo-local-y-firma-de-convenio-por-el-programa-munigestion', 'https://www.unne.edu.ar/bienestar/excomedor', 'https://www.unne.edu.ar/segundo-llamado-2025-programa-escala-augm-movilidad-academica-para-estudiantes-de-posgrado-docentes-y-gestores', 'https://www.unne.edu.ar/concursos/instituto-de-servicios-sociales-issunne-llamado-a-concurso-no-docente-res-n-2288-25-r', 'https://www.unne.edu.ar/propuesta-integral-eje-no1-la-universidad-como-marco-institucional-de-las-practicas-y-desempeno-laboral']\n"
     ]
    }
   ],
   "source": [
    "print(urls)"
   ]
  },
  {
   "cell_type": "code",
   "execution_count": 33,
   "metadata": {},
   "outputs": [
    {
     "name": "stdout",
     "output_type": "stream",
     "text": [
      "596\n"
     ]
    }
   ],
   "source": [
    "print(len(urls))"
   ]
  },
  {
   "cell_type": "code",
   "execution_count": 25,
   "metadata": {},
   "outputs": [],
   "source": [
    "# Load and chunk contents of the blog\n",
    "loader = WebBaseLoader(web_paths=urls)\n",
    "docs = loader.load()"
   ]
  },
  {
   "cell_type": "code",
   "execution_count": 30,
   "metadata": {},
   "outputs": [],
   "source": [
    "text_splitter = RecursiveCharacterTextSplitter(chunk_size=1000, chunk_overlap=100)\n",
    "all_splits = text_splitter.split_documents(docs)\n",
    "\n",
    "def chunks(lst, n):\n",
    "    for i in range(0, len(lst), n):\n",
    "        yield lst[i:i + n]\n",
    "\n",
    "MAX_BATCH = 5461\n",
    "\n",
    "# Index en lotes\n",
    "for batch in chunks(all_splits, MAX_BATCH):\n",
    "    vector_store.add_documents(documents=batch)"
   ]
  },
  {
   "cell_type": "code",
   "execution_count": 31,
   "metadata": {},
   "outputs": [
    {
     "name": "stderr",
     "output_type": "stream",
     "text": [
      "c:\\Users\\johan\\Documents\\code\\ia_ps\\.venv\\Lib\\site-packages\\langsmith\\client.py:272: LangSmithMissingAPIKeyWarning: API key must be provided when using hosted LangSmith API\n",
      "  warnings.warn(\n"
     ]
    }
   ],
   "source": [
    "# Define prompt for question-answering\n",
    "prompt = hub.pull(\"rlm/rag-prompt\")\n",
    "\n",
    "\n",
    "# Define state for application\n",
    "class State(TypedDict):\n",
    "    question: str\n",
    "    context: List[Document]\n",
    "    answer: str\n",
    "\n",
    "\n",
    "# Define application steps\n",
    "def retrieve(state: State):\n",
    "    retrieved_docs = vector_store.similarity_search(state[\"question\"])\n",
    "    return {\"context\": retrieved_docs}\n",
    "\n",
    "\n",
    "def generate(state: State):\n",
    "    docs_content = \"\\n\\n\".join(doc.page_content for doc in state[\"context\"])\n",
    "    messages = prompt.invoke({\"question\": state[\"question\"], \"context\": docs_content})\n",
    "    response = llm.invoke(messages)\n",
    "    return {\"answer\": response.content}\n",
    "\n",
    "\n",
    "# Compile application and test\n",
    "graph_builder = StateGraph(State).add_sequence([retrieve, generate])\n",
    "graph_builder.add_edge(START, \"retrieve\")\n",
    "graph = graph_builder.compile()"
   ]
  },
  {
   "cell_type": "code",
   "execution_count": 41,
   "metadata": {},
   "outputs": [
    {
     "name": "stdout",
     "output_type": "stream",
     "text": [
      "Entre 1920 y 1955, la Universidad Nacional del Nordeste (UNNE) se enfocó en la expansión territorial y en democratizar el acceso a la educación superior, estableciendo dependencias académicas y administrativas fuera de sus sedes centrales. Esto permitió a comunidades distantes de los centros urbanos acceder a la educación. La UNNE sentó las bases para su actual estructura, que incluye varios Centros Regionales Universitarios.\n"
     ]
    }
   ],
   "source": [
    "response = graph.invoke({\"question\": \"Entre los años 1920 y 1955 que ocurrio en la UNNE\"})\n",
    "print(response[\"answer\"])"
   ]
  },
  {
   "cell_type": "code",
   "execution_count": 42,
   "metadata": {},
   "outputs": [
    {
     "name": "stdout",
     "output_type": "stream",
     "text": [
      "La Secretaría General de Ciencia y Técnica de la UNNE ha lanzado una nueva convocatoria para la Categorización Interna de Docentes Investigadores, abierta desde el 5 de mayo hasta el 27 de mayo de 2025. Los docentes podrán postular a través del sistema SAP y solicitar una categoría entre V e I, adjuntando la documentación necesaria. Esta convocatoria se enmarca en el reglamento aprobado por la Resolución Nº 2305/25 R.\n"
     ]
    }
   ],
   "source": [
    "response = graph.invoke({\"question\": \"SCI-DI UNNE: nueva convocatoria a Categorización Interna de D-I de la UNNE\"})\n",
    "print(response[\"answer\"])"
   ]
  },
  {
   "cell_type": "code",
   "execution_count": 43,
   "metadata": {},
   "outputs": [
    {
     "name": "stdout",
     "output_type": "stream",
     "text": [
      "Los requisitos para el ingreso de mayores de 25 años sin título secundario incluyen la presentación de una fotocopia del documento de identidad, constancia de estudios primarios completos, y certificados que acrediten experiencia laboral relacionada con la carrera elegida. Además, es necesario presentar constancia del último ciclo de enseñanza secundaria que indique las asignaturas adeudadas y una copia del carnet de vacunación correspondiente. Todos los documentos enviados tendrán carácter de declaración jurada y estarán sujetos a verificación por la unidad académica.\n"
     ]
    }
   ],
   "source": [
    "response = graph.invoke({\"question\": \"Requisitos para el ingreso de mayores SIN Título Secundario:\"})\n",
    "print(response[\"answer\"])"
   ]
  }
 ],
 "metadata": {
  "kernelspec": {
   "display_name": ".venv",
   "language": "python",
   "name": "python3"
  },
  "language_info": {
   "codemirror_mode": {
    "name": "ipython",
    "version": 3
   },
   "file_extension": ".py",
   "mimetype": "text/x-python",
   "name": "python",
   "nbconvert_exporter": "python",
   "pygments_lexer": "ipython3",
   "version": "3.13.0"
  }
 },
 "nbformat": 4,
 "nbformat_minor": 2
}
